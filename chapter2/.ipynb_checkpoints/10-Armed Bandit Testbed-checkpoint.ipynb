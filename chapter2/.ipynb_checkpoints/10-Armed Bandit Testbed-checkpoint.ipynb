{
 "cells": [
  {
   "cell_type": "code",
   "execution_count": 1,
   "metadata": {},
   "outputs": [],
   "source": [
    "import numpy as np\n",
    "\n",
    "import matplotlib.pyplot as plt"
   ]
  },
  {
   "cell_type": "code",
   "execution_count": 108,
   "metadata": {},
   "outputs": [],
   "source": [
    "EPSILONS = [0, .01, .1, .2]\n",
    "STEPS = 1000\n",
    "RUNS = 2000\n",
    "NUM_ACTIONS = 10"
   ]
  },
  {
   "cell_type": "code",
   "execution_count": 109,
   "metadata": {},
   "outputs": [
    {
     "name": "stdout",
     "output_type": "stream",
     "text": [
      "True Q values: [-1.2753578262751784, -0.45298363099940353, 0.22662611323671822, -1.0485145620110004, -2.1200800283418837, -0.2385842858298354, -1.3856963580471793, 3.0780940514578283, 0.7695983061594461, 1.5106970342621324]\n"
     ]
    }
   ],
   "source": [
    "# Create true q values \n",
    "q = [np.random.normal(0, 1) for _ in range(NUM_ACTIONS)]\n",
    "\n",
    "print(f'True Q values: {q}')"
   ]
  },
  {
   "cell_type": "code",
   "execution_count": 116,
   "metadata": {},
   "outputs": [],
   "source": [
    "def initialize_Q():\n",
    "    Q_numerator = np.zeros(NUM_ACTIONS)  # actual rewards for a given action\n",
    "    Q_denominator = np.zeros(NUM_ACTIONS)  # number of times this action was taken\n",
    "\n",
    "    # Our estimate of the q-values via observation, need to initialize\n",
    "    Q = [np.random.normal(0, 1) for i in range(NUM_ACTIONS)]\n",
    "    \n",
    "    return Q_numerator, Q_denominator, Q"
   ]
  },
  {
   "cell_type": "code",
   "execution_count": 117,
   "metadata": {},
   "outputs": [
    {
     "data": {
      "text/plain": [
       "[1.0552636189354452,\n",
       " -0.09707213614675057,\n",
       " -1.2670998169021568,\n",
       " -1.0079530631046398,\n",
       " -0.32638461080533177,\n",
       " -1.566618314570795,\n",
       " 0.3852180289579913,\n",
       " 0.7199621575584868,\n",
       " -0.7343960729106336,\n",
       " 1.4467883061099445]"
      ]
     },
     "execution_count": 117,
     "metadata": {},
     "output_type": "execute_result"
    }
   ],
   "source": [
    "Q_numerator, Q_denominator, Q = initialize_Q()\n",
    "\n",
    "Q"
   ]
  },
  {
   "cell_type": "code",
   "execution_count": 118,
   "metadata": {},
   "outputs": [],
   "source": [
    "# n = 2000, the average rewards at time step t (1000 time steps run 2000 times)\n",
    "total_rewards_per_step_per_epsilon = [np.zeros(STEPS) for _ in EPSILONS]"
   ]
  },
  {
   "cell_type": "code",
   "execution_count": 119,
   "metadata": {},
   "outputs": [
    {
     "name": "stdout",
     "output_type": "stream",
     "text": [
      "Running with epsilon: 0\n",
      "\n",
      "Running with epsilon: 0.01\n",
      "\n",
      "Running with epsilon: 0.1\n",
      "\n",
      "Running with epsilon: 0.2\n",
      "\n"
     ]
    }
   ],
   "source": [
    "for epsilon_idx, epsilon in enumerate(EPSILONS):\n",
    "    print(f'Running with epsilon: {epsilon}\\n')\n",
    "    for run in range(RUNS):\n",
    "        # Reset the Qs for each run\n",
    "        Q_numerator, Q_denominator, Q = initialize_Q()\n",
    "\n",
    "        for step in range(STEPS):\n",
    "            # Explore\n",
    "            if np.random.uniform() < epsilon:\n",
    "                action = np.random.choice(10)\n",
    "            \n",
    "            # Exploit\n",
    "            else:\n",
    "                action = np.argmax(Q)\n",
    "            \n",
    "            # Get reward given this action\n",
    "            reward = np.random.normal(q[action], 1)\n",
    "            \n",
    "            # Update Q\n",
    "            Q_numerator[action] += reward\n",
    "            Q_denominator[action] += 1\n",
    "            Q[action] = Q_numerator[action] / Q_denominator[action]\n",
    "            \n",
    "            # Track rewards at given step\n",
    "            total_rewards_per_step_per_epsilon[epsilon_idx][step] += reward"
   ]
  },
  {
   "cell_type": "code",
   "execution_count": 122,
   "metadata": {},
   "outputs": [],
   "source": [
    "# Average out our rewards for each epsilon for each step across the 2000 runs\n",
    "for i, _ in enumerate(total_rewards_per_step_per_epsilon):\n",
    "    total_rewards_per_step_per_epsilon[i] = total_rewards_per_step_per_epsilon[i] / RUNS"
   ]
  },
  {
   "cell_type": "markdown",
   "metadata": {},
   "source": [
    "### Summary\n",
    "Simple greedy algorithm with **sample average action method.**\n",
    "\n",
    "```\n",
    "Q(a) = (sum of rewards when action 'a' is taken) / (# of times action 'a' is taken)\n",
    "```\n",
    "\n",
    "`q(a)` are the true values we are trying to estimate with `Q(a)`\n",
    "\n",
    "We choose random actions (aka \"explore\") epsilon % of the time. Note the plot shows the value of exploring a bit versus always exploiting (e=0)."
   ]
  },
  {
   "cell_type": "code",
   "execution_count": 121,
   "metadata": {},
   "outputs": [
    {
     "data": {
      "image/png": "[encoded data removed]",
      "text/plain": [
       "<Figure size 432x288 with 1 Axes>"
      ]
     },
     "metadata": {
      "needs_background": "light"
     },
     "output_type": "display_data"
    }
   ],
   "source": [
    "# plot curves\n",
    "colors = ['blue', 'red', 'green', 'yellow']\n",
    "for epsilon_idx, epsilon in enumerate(EPSILONS):\n",
    "    plt.plot(total_rewards_per_step_per_epsilon[epsilon_idx], color=colors[epsilon_idx], label=f'e={epsilon}')\n",
    "\n",
    "# Add x and y axis labels\n",
    "plt.xlabel('Steps')\n",
    "plt.ylabel(f'Average Reward (N={RUNS})')\n",
    "\n",
    "# Add legend\n",
    "plt.legend()\n",
    "\n",
    "# Show the plot\n",
    "plt.show()"
   ]
  },
  {
   "cell_type": "markdown",
   "metadata": {},
   "source": [
    "**Approximation of `q(a)` and best action:**\n",
    "Note the best run at `e=0.1` has an average reward of nearly 0, which makes sense because the highest reward is `q(7) = 3`."
   ]
  },
  {
   "cell_type": "code",
   "execution_count": 126,
   "metadata": {},
   "outputs": [
    {
     "name": "stdout",
     "output_type": "stream",
     "text": [
      "Action: 7, Reward: 3.0780940514578283\n"
     ]
    }
   ],
   "source": [
    "# The true highest reward action\n",
    "print(f'Action: {np.argmax(q)}, Reward: {q[np.argmax(q)]}')"
   ]
  },
  {
   "cell_type": "code",
   "execution_count": 125,
   "metadata": {},
   "outputs": [
    {
     "data": {
      "text/plain": [
       "7"
      ]
     },
     "execution_count": 125,
     "metadata": {},
     "output_type": "execute_result"
    }
   ],
   "source": [
    "# The estimate highest reward action (per the last run)\n",
    "np.argmax(Q)"
   ]
  },
  {
   "cell_type": "markdown",
   "metadata": {},
   "source": [
    "### Exercise 2.5 (programming)\n",
    "Design and conduct an experiment to demonstrate the\n",
    "difficulties that sample-average methods have for nonstationary problems. Use a modified\n",
    "version of the 10-armed testbed in which all the q⇤(a) start out equal and then take\n",
    "independent random walks (say by adding a normally distributed increment with mean\n",
    "zero and standard deviation 0.01 to all the q⇤(a) on each step). Prepare plots like\n",
    "Figure 2.2 for an action-value method using sample averages, incrementally computed,\n",
    "and another action-value method using a constant step-size parameter, ↵ = 0.1. Use\n",
    "\" = 0.1 and longer runs, say of 10,000 steps."
   ]
  },
  {
   "cell_type": "code",
   "execution_count": null,
   "metadata": {},
   "outputs": [],
   "source": []
  }
 ],
 "metadata": {
  "kernelspec": {
   "display_name": "Python 3",
   "language": "python",
   "name": "python3"
  },
  "language_info": {
   "codemirror_mode": {
    "name": "ipython",
    "version": 3
   },
   "file_extension": ".py",
   "mimetype": "text/x-python",
   "name": "python",
   "nbconvert_exporter": "python",
   "pygments_lexer": "ipython3",
   "version": "3.7.3"
  }
 },
 "nbformat": 4,
 "nbformat_minor": 4
}
